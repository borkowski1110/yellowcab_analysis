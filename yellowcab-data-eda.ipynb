{
 "cells": [
  {
   "cell_type": "markdown",
   "metadata": {},
   "source": [
    "### Reminder\n",
    "### Pre- EDA Summary\n",
    "#### Matters that needs to be tended in the preprocessing:\n",
    "1. Dropping unused columns\n",
    "\n",
    "2. Cleaning missing values if any encountered\n",
    "\n",
    "3. Converting timestamp columns to the proper type and format\n",
    "\n",
    "4. Cleaning negative trip durations, trip distances\n",
    "\n",
    "5. Cleaning negative fares\n",
    "\n",
    "6. Cleaning the trips with no passengers\n",
    "\n",
    "7. Encoding the variables that should be categorical\n",
    "\n",
    "#### Feature engineering:\n",
    "\n",
    "1. Calculate Borough sizes using number of zones that every one of them contains\n",
    "\n",
    "2. Calculate average drive speed\n",
    "\n",
    "3. Calculate the drivetime.\n",
    "\n",
    "4. Create the indicator wether it was a night/rush hour course.\n",
    "\n",
    "5. Create the indicator showing if the trip happened during the weekend\n",
    "\n",
    "6. Create a season indicator (for models trained on many months).\n",
    "\n",
    "7. Optionally merge the outlying payment types together into the \"uncommon\" category.\n",
    "\n",
    "#### Features to keep from the original dataset:\n",
    "1. PULocationID and DOLocationID\n",
    "2. tpep_pickup_datetime and tpep_dropoff_datetime\n",
    "3. passenger_count\n",
    "4. trip_distance\n",
    "5. payment_type\n",
    "6. fare_amount\n",
    "7. extra\n",
    "8. tip_amount\n",
    "\n",
    "#### Handling anomalies\n",
    "##### Erase rows where:\n",
    "\n",
    "1. PULocationID or DOLocationID is in {0, 264, 265}\n",
    "\n",
    "2. Total amount is negative\n",
    "\n",
    "3. \"extra\" value is negative\n",
    "\n",
    "4. \"tip_amount\" is negative\n",
    "\n",
    "5. Trip lasts longer than 100 minutes or its duration is less than or equal to 0 minutes.\n",
    "\n",
    "6. Erase rows with missing values."
   ]
  },
  {
   "cell_type": "code",
   "execution_count": 2,
   "metadata": {},
   "outputs": [],
   "source": [
    "import pandas as pd\n",
    "import numpy as np\n",
    "import os\n",
    "\n",
    "os.chdir('src')\n",
    "from toolkit.etl_toolkit import ingest_data, preprocess_data, engineering_toolkit\n",
    "from toolkit.analysis_toolkit import inspect_distribution, calculate_drivetime, inspect_yearly, corrplot"
   ]
  },
  {
   "cell_type": "markdown",
   "metadata": {},
   "source": [
    "#### Preamble - yearly heatmaps"
   ]
  },
  {
   "cell_type": "code",
   "execution_count": null,
   "metadata": {},
   "outputs": [],
   "source": [
    "aggregated_data = pd.DataFrame()\n",
    "valid_months = ['0' + str(i+1) if i < 9 else str(i+1) for i in range(12)]\n",
    "for ind, month, year in zip(range(24), valid_months*2, ['2018']*12 + ['2019']*12):\n",
    "    aggregated_data.loc[ind, 'year'] = year\n",
    "    aggregated_data.loc[ind, 'month'] = month\n",
    "    aggregated_data.loc[ind, 'trips'] = len(ingest_data(year, month))\n",
    "    aggregated_data.loc[ind, 'unique_trips'] = len(set(ingest_data(year, month).index))\n",
    "    "
   ]
  },
  {
   "cell_type": "code",
   "execution_count": null,
   "metadata": {},
   "outputs": [],
   "source": [
    "inspect_yearly(aggregated_data, method = 'heatmap')"
   ]
  },
  {
   "cell_type": "code",
   "execution_count": null,
   "metadata": {},
   "outputs": [],
   "source": [
    "inspect_yearly(aggregated_data, method = 'clustermap')"
   ]
  },
  {
   "cell_type": "markdown",
   "metadata": {},
   "source": [
    "Now the data for EDA will be processed using what we have learned from the yellowcab_data_domain_understanding notebook.\n",
    "Then it will be time to explore feature interactions, just before stepping into the realms of feature engineering."
   ]
  },
  {
   "cell_type": "code",
   "execution_count": null,
   "metadata": {},
   "outputs": [],
   "source": [
    "zone_lookup = pd.read_csv('https://s3.amazonaws.com/nyc-tlc/misc/taxi+_zone_lookup.csv')"
   ]
  },
  {
   "cell_type": "code",
   "execution_count": null,
   "metadata": {},
   "outputs": [],
   "source": [
    "columns_to_keep = ['PULocationID', \n",
    "                   'DOLocationID', \n",
    "                   'tpep_pickup_datetime', \n",
    "                   'tpep_dropoff_datetime', \n",
    "                   'passenger_count',\n",
    "                   'trip_distance', \n",
    "                   'payment_type',\n",
    "                   'fare_amount',\n",
    "                   'extra',\n",
    "                   'tip_amount']\n",
    "\n",
    "cat_columns = ['payment_type']\n",
    "\n",
    "yellow_06_19 = preprocess_data(ingest_data('2019', '06').head(100000), zone_lookup, columns_to_keep, cat_columns)"
   ]
  },
  {
   "cell_type": "code",
   "execution_count": null,
   "metadata": {},
   "outputs": [],
   "source": [
    "corrplot(yellow_06_19, columns = ['passenger_count', \n",
    "                                  'trip_distance', \n",
    "                                  'fare_amount', \n",
    "                                  'extra', \n",
    "                                  'tip_amount'])"
   ]
  },
  {
   "cell_type": "markdown",
   "metadata": {},
   "source": [
    "For now we could say that \"extra\" column is not necessarily used in a proper way. It should be futher processed to represent wether it is rush hour or a night ride (which should be more compact approach than extracting this information from the timestamps). \n"
   ]
  },
  {
   "cell_type": "code",
   "execution_count": null,
   "metadata": {},
   "outputs": [],
   "source": [
    "yellow_06_19 = engineering_toolkit(yellow_06_19, ['borough_size', 'speed', 'trip_type', 'season'], zone_lookup)"
   ]
  },
  {
   "cell_type": "code",
   "execution_count": null,
   "metadata": {},
   "outputs": [],
   "source": [
    "yellow_06_19.columns"
   ]
  },
  {
   "cell_type": "code",
   "execution_count": null,
   "metadata": {},
   "outputs": [],
   "source": [
    "corrplot(yellow_06_19, columns = ['passenger_count', \n",
    "                                  'trip_distance', \n",
    "                                  'fare_amount', \n",
    "                                  'PUSize', \n",
    "                                  'DOSize', \n",
    "                                  'tip_amount',\n",
    "                                  'speed',\n",
    "                                  'drivetime'])"
   ]
  },
  {
   "cell_type": "markdown",
   "metadata": {},
   "source": [
    "### Draft ideas of modelling could be:\n",
    "\n",
    "#### Trained on sister months (01.2018 & 01.2019, 02.2018 & 02.2019 etc.):\n",
    "1. Predict the trip duration, based on distance to drive, pickup/dropoff borough size, type of trip (night/rush hour/day), season.\n",
    "\n",
    "#### Trained on whole dataset (but just on trips with card payments, for cash tips are not included in the data)\n",
    "2. Predict tip amount based on distance, type of trip (night/rush hour/day), season, passengers count (after erasing the zero-passengers trips), pickup/dropoff borough size and optionally payment type."
   ]
  },
  {
   "cell_type": "markdown",
   "metadata": {},
   "source": [
    "#### Notes before modelling:\n",
    "\n",
    "Model 1) \n",
    "columns: scaling: passenger_count, trip_distance, PUSize, DOSize\n",
    "         one-hot- encoded: trip_type\n",
    "         \n",
    "Model 2) \n",
    "columns: scaling: passenger_count, trip_distance, PUSize, DOSize, PULocationID (Optional), DOLocationID (Optional), speed \n",
    "         one-hot- encoded: trip_type, season, PUBorough, DOBorough\n",
    "         \n"
   ]
  }
 ],
 "metadata": {
  "kernelspec": {
   "display_name": "Python 3",
   "language": "python",
   "name": "python3"
  },
  "language_info": {
   "codemirror_mode": {
    "name": "ipython",
    "version": 3
   },
   "file_extension": ".py",
   "mimetype": "text/x-python",
   "name": "python",
   "nbconvert_exporter": "python",
   "pygments_lexer": "ipython3",
   "version": "3.7.6"
  }
 },
 "nbformat": 4,
 "nbformat_minor": 4
}
