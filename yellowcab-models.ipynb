{
 "cells": [
  {
   "cell_type": "markdown",
   "metadata": {},
   "source": [
    "### Reminder\n",
    "#### Notes before modelling:\n",
    "Model 1) \n",
    "\n",
    "columns: scaling: passenger_count, trip_distance, PUSize, DOSize one-hot- encoded: trip_type\n",
    "\n",
    "Model 2) \n",
    "\n",
    "columns: scaling: passenger_count, trip_distance, PUSize, DOSize, PULocationID (Optional), DOLocationID (Optional), speed one-hot- encoded: trip_type, season, PUBorough, DOBorough"
   ]
  },
  {
   "cell_type": "code",
   "execution_count": 8,
   "metadata": {},
   "outputs": [],
   "source": [
    "import pandas as pd\n",
    "import numpy as np\n",
    "import os\n",
    "os.chdir('E:/R_files/yellowcab_analysis/src')\n",
    "from toolkit.etl_toolkit import ingest_data, preprocess_data, engineering_toolkit\n",
    "from toolkit.analysis_toolkit import evaluate_xgb, mape\n",
    "from generators.drivetime_generator import batch_generator, drivetime_data_generator\n",
    "from models.drivetime_model import generate_drivetime_model"
   ]
  },
  {
   "cell_type": "markdown",
   "metadata": {},
   "source": [
    "### Drivetime model section\n",
    "\n",
    "XGBoost.\n",
    "columns: scaling: passenger_count, trip_distance, PUSize, DOSize one-hot- encoded: trip_type"
   ]
  },
  {
   "cell_type": "code",
   "execution_count": null,
   "metadata": {},
   "outputs": [],
   "source": [
    "zone_lookup = pd.read_csv('https://s3.amazonaws.com/nyc-tlc/misc/taxi+_zone_lookup.csv')"
   ]
  },
  {
   "cell_type": "code",
   "execution_count": null,
   "metadata": {},
   "outputs": [],
   "source": [
    "columns_to_keep = ['PULocationID', \n",
    "                   'DOLocationID', \n",
    "                   'tpep_pickup_datetime', \n",
    "                   'tpep_dropoff_datetime', \n",
    "                   'passenger_count',\n",
    "                   'trip_distance', \n",
    "                   'payment_type',\n",
    "                   'fare_amount',\n",
    "                   'extra',\n",
    "                   'tip_amount']\n",
    "\n",
    "cat_columns = ['payment_type']\n",
    "\n",
    "batch_size = 150000\n",
    "ind = 0\n",
    "\n",
    "yellow_06_19 = preprocess_data(ingest_data('2019', '06').loc[ind*batch_size:(ind + 1)*batch_size, :].compute(), zone_lookup, columns_to_keep, cat_columns)"
   ]
  },
  {
   "cell_type": "code",
   "execution_count": null,
   "metadata": {},
   "outputs": [],
   "source": [
    "len(yellow_06_19)"
   ]
  },
  {
   "cell_type": "code",
   "execution_count": null,
   "metadata": {},
   "outputs": [],
   "source": [
    "yellow_06_19 = engineering_toolkit(yellow_06_19, ['borough_size', 'trip_type'], zone_lookup)"
   ]
  },
  {
   "cell_type": "code",
   "execution_count": null,
   "metadata": {},
   "outputs": [],
   "source": [
    "yellow_06_19 = yellow_06_19[['passenger_count', 'trip_distance', 'PUSize', 'DOSize', 'trip_type', 'drivetime']]"
   ]
  },
  {
   "cell_type": "code",
   "execution_count": null,
   "metadata": {},
   "outputs": [],
   "source": [
    "quick_model, evals_result = generate_drivetime_model(batch = yellow_06_19, \n",
    "                                                     eval_metric = 'rmse',\n",
    "                                                     incremental_learning = False,\n",
    "                                                     grid_search = False,\n",
    "                                                     early_stopping_rounds = 100)"
   ]
  },
  {
   "cell_type": "code",
   "execution_count": null,
   "metadata": {},
   "outputs": [],
   "source": [
    "(X_train, y_train), (X_test, y_test) = batch_generator(yellow_06_19.head(10000))\n",
    "#Additional metric - mape\n",
    "print(f'Training set. Mean absolute percentage error: {mape(quick_model.predict(xgb.DMatrix(X_train, y_train)), y_train)}')\n",
    "print(f'Validation set. Mean absolute percentage error: {mape(quick_model.predict(xgb.DMatrix(X_test, y_test)), y_test)}')"
   ]
  },
  {
   "cell_type": "code",
   "execution_count": null,
   "metadata": {},
   "outputs": [],
   "source": [
    "quick_model.feature_names = ['passenger_count', 'trip_distance', 'PUSize', 'DOSize', 'day', 'rush_hour', 'night']\n",
    "xgb.plot_importance(quick_model)"
   ]
  },
  {
   "cell_type": "code",
   "execution_count": null,
   "metadata": {},
   "outputs": [],
   "source": [
    "evaluate_xgb(evals_result)"
   ]
  },
  {
   "cell_type": "code",
   "execution_count": null,
   "metadata": {},
   "outputs": [],
   "source": [
    "evaluate_xgb(evals_result, (100, 800), 'train')"
   ]
  },
  {
   "cell_type": "code",
   "execution_count": null,
   "metadata": {},
   "outputs": [],
   "source": [
    "prolonged_model, evals_result = generate_drivetime_model(batch = yellow_06_19, \n",
    "                                                         eval_metric = 'rmse',\n",
    "                                                         incremental_learning = False,\n",
    "                                                         early_stopping_rounds = 2000,\n",
    "                                                         grid_search = False)"
   ]
  },
  {
   "cell_type": "code",
   "execution_count": null,
   "metadata": {},
   "outputs": [],
   "source": [
    "#Additional metric - mape\n",
    "print(f'Training set. Mean absolute percentage error: {mape(prolonged_model.predict(xgb.DMatrix(X_train, y_train)), y_train)}')\n",
    "print(f'Validation set. Mean absolute percentage error: {mape(prolonged_model.predict(xgb.DMatrix(X_test, y_test)), y_test)}')"
   ]
  },
  {
   "cell_type": "code",
   "execution_count": null,
   "metadata": {},
   "outputs": [],
   "source": [
    "evaluate_xgb(evals_result, (900, 1200), 'train')"
   ]
  },
  {
   "cell_type": "code",
   "execution_count": null,
   "metadata": {},
   "outputs": [],
   "source": [
    "# Define parameter space\n",
    "param_space = {'learning_rate': hp.uniform('learning_rate', 0.01, 0.3), \n",
    "               'n_round': scope.int(hp.quniform('n_round', 200, 3000, 100)),\n",
    "               'max_depth': scope.int(hp.quniform('max_depth', 5, 16, 1)), \n",
    "               'gamma': hp.uniform('gamma', 0, 10), \n",
    "               'min_child_weight': hp.uniform('min_child_weight', 0, 10),\n",
    "               'subsample': hp.uniform('subsample', 0.1, 1), \n",
    "               'colsample_bytree': hp.uniform('colsample_bytree', 0.1, 1)\n",
    "               }"
   ]
  },
  {
   "cell_type": "code",
   "execution_count": null,
   "metadata": {},
   "outputs": [],
   "source": [
    "optimal_hp, trials = generate_drivetime_model(batch = yellow_06_19, \n",
    "                                              incremental_learning = False,\n",
    "                                              grid_search = True,\n",
    "                                              param_space = param_space,\n",
    "                                              n_trials = 1000)"
   ]
  },
  {
   "cell_type": "code",
   "execution_count": null,
   "metadata": {},
   "outputs": [],
   "source": [
    "params_ = optimal_hp\n",
    "params_['max_depth'] = int(optimal_hp['max_depth'])\n",
    "n_rounds_best = int(optimal_hp['n_round'])\n",
    "del params_['n_round']\n",
    "print(params_)\n",
    "print(n_rounds_best)"
   ]
  },
  {
   "cell_type": "code",
   "execution_count": null,
   "metadata": {},
   "outputs": [],
   "source": [
    "f, ax = plt.subplots(1)\n",
    "xs = [t['tid'] for t in trials.trials]\n",
    "ys = [t['result']['loss'] for t in trials.trials]\n",
    "ax.scatter(xs, ys, s=20, linewidth=0.01, alpha=0.75)\n",
    "ax.set_title('loss over time', fontsize=18)\n",
    "ax.set_xlabel('trials', fontsize=16)\n",
    "ax.set_ylabel('loss', fontsize=16)"
   ]
  },
  {
   "cell_type": "code",
   "execution_count": null,
   "metadata": {},
   "outputs": [],
   "source": [
    "params = params_\n",
    "params.update({'verbosity' : 0})\n",
    "params.update({'eval_metric': 'rmse'})\n",
    "params.update({'n_round': n_rounds_best})\n",
    "model, evals_result = generate_drivetime_model(batch = yellow_06_19, \n",
    "                                               grid_search = False,\n",
    "                                               early_stopping_rounds = 10,\n",
    "                                               params = params_,\n",
    "                                               incremental_learning = False)"
   ]
  },
  {
   "cell_type": "code",
   "execution_count": null,
   "metadata": {},
   "outputs": [],
   "source": [
    "#Additional metric - mape\n",
    "print(f'Training set. Mean absolute percentage error: {mape(model.predict(xgb.DMatrix(X_train, y_train)), y_train)}')\n",
    "print(f'Validation set. Mean absolute percentage error: {mape(model.predict(xgb.DMatrix(X_test, y_test)), y_test)}')"
   ]
  },
  {
   "cell_type": "code",
   "execution_count": null,
   "metadata": {},
   "outputs": [],
   "source": [
    "evaluate_xgb(evals_result)"
   ]
  },
  {
   "cell_type": "code",
   "execution_count": null,
   "metadata": {},
   "outputs": [],
   "source": [
    "evaluate_xgb(evals_result, (45, 160), 'train')"
   ]
  },
  {
   "cell_type": "markdown",
   "metadata": {},
   "source": [
    "### Bulk model section"
   ]
  },
  {
   "cell_type": "code",
   "execution_count": null,
   "metadata": {},
   "outputs": [],
   "source": [
    "columns_to_keep = ['PULocationID', \n",
    "                   'DOLocationID', \n",
    "                   'tpep_pickup_datetime', \n",
    "                   'tpep_dropoff_datetime', \n",
    "                   'passenger_count',\n",
    "                   'trip_distance', \n",
    "                   'payment_type',\n",
    "                   'fare_amount',\n",
    "                   'extra',\n",
    "                   'tip_amount']\n",
    "\n",
    "cat_columns = ['payment_type']"
   ]
  },
  {
   "cell_type": "code",
   "execution_count": null,
   "metadata": {},
   "outputs": [],
   "source": [
    "from tqdm import tqdm\n",
    "\n",
    "model = () \n",
    "train_loss = []\n",
    "eval_loss = []\n",
    "\n",
    "for month in ['01', '02', '03', '04', '05', '06', '07', '08', '09', '10', '11', '12']:\n",
    "    fetching_table = ingest_data('2019', month).compute()\n",
    "    gen = drivetime_data_generator(columns_to_keep,\n",
    "                                   cat_columns,\n",
    "                                   fetching_table,\n",
    "                                   zone_lookup,\n",
    "                                   batch_size = 10000,\n",
    "                                   shuffle = True\n",
    "                )\n",
    "    for i, ind in zip(tqdm(range(gen.__len__())), range(gen.__len__())):\n",
    "        batch = gen.__getitem__(ind)\n",
    "        model, evals_result = generate_drivetime_model(batch = batch, \n",
    "                                                   grid_search = False,\n",
    "                                                   early_stopping_rounds = 100,\n",
    "                                                   params = params,\n",
    "                                                   incremental_learning = True)\n",
    "\n",
    "        eval_loss.append(min(evals_result['eval']['rmse']))\n",
    "        train_loss.append(min(evals_result['train']['rmse']))\n",
    "\n",
    "evals_result_agg = {'train':{'rmse' : eval_loss}, 'eval' : {'rmse' : train_loss}}\n"
   ]
  },
  {
   "cell_type": "code",
   "execution_count": null,
   "metadata": {},
   "outputs": [],
   "source": [
    "(X_train, y_train), (X_test, y_test) = gen.__getitem__(0)\n",
    "#Additional metric - mape\n",
    "print(f'Training set. Mean absolute percentage error: {mape(model.predict(xgb.DMatrix(X_train, y_train)), y_train)}')\n",
    "print(f'Validation set. Mean absolute percentage error: {mape(model.predict(xgb.DMatrix(X_test, y_test)), y_test)}')"
   ]
  },
  {
   "cell_type": "code",
   "execution_count": null,
   "metadata": {},
   "outputs": [],
   "source": [
    "evaluate_xgb(evals_result_agg)"
   ]
  }
 ],
 "metadata": {
  "kernelspec": {
   "display_name": "Python 3",
   "language": "python",
   "name": "python3"
  },
  "language_info": {
   "codemirror_mode": {
    "name": "ipython",
    "version": 3
   },
   "file_extension": ".py",
   "mimetype": "text/x-python",
   "name": "python",
   "nbconvert_exporter": "python",
   "pygments_lexer": "ipython3",
   "version": "3.7.6"
  }
 },
 "nbformat": 4,
 "nbformat_minor": 4
}
